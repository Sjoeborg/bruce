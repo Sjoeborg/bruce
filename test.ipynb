{
 "cells": [
  {
   "cell_type": "code",
   "execution_count": 28,
   "metadata": {},
   "outputs": [],
   "source": [
    "import requests\n",
    "from datetime import datetime, timedelta"
   ]
  },
  {
   "cell_type": "code",
   "execution_count": 29,
   "metadata": {},
   "outputs": [],
   "source": [
    "interesting_classes = ['BUC: Lower Body Strength']\n",
    "time_filter = None\n",
    "day_filter = []\n",
    "saved_classes = {}"
   ]
  },
  {
   "cell_type": "code",
   "execution_count": 41,
   "metadata": {},
   "outputs": [],
   "source": [
    "def get_classes(studio_id = '952'):\n",
    "    url = \"https://api.bruce.app/v32/class\"\n",
    "\n",
    "    data = {\"studio_id\":studio_id,\"start_time_after\":datetime.strftime(datetime.now(),'%Y-%m-%dT00:00:00Z')}\n",
    "\n",
    "    response = requests.request(\"GET\", url, params=data)\n",
    "\n",
    "    assert response.ok, print('Error in get_classes', response.status_code, response.text)\n",
    "\n",
    "    return response.json()['classes']"
   ]
  },
  {
   "cell_type": "code",
   "execution_count": 56,
   "metadata": {},
   "outputs": [],
   "source": [
    "classes = get_classes()\n",
    "\n",
    "\n",
    "def process_classes(class_list,saved_classes):\n",
    "    new_class = False\n",
    "    for klass in class_list:\n",
    "        try:\n",
    "            assert klass['id'] not in saved_classes\n",
    "            assert klass['title'] in interesting_classes\n",
    "            assert klass['price'] is None\n",
    "            assert klass['available_spots'] > 0\n",
    "            assert klass['tier_level'] <= 2\n",
    "            assert klass['deleted'] is False\n",
    "            \n",
    "\n",
    "            start_time = datetime.strptime(klass['start_time'], '%Y-%m-%dT%XZ') + timedelta(seconds=klass['time_offset'])\n",
    "            created_at = datetime.strptime(klass['created_at'], '%Y-%m-%dT%XZ') + timedelta(seconds=klass['time_offset'])\n",
    "\n",
    "            if time_filter is not None:\n",
    "                assert start_time.hour >= time_filter\n",
    "            if len(day_filter) > 0:\n",
    "                assert start_time.day not in day_filter\n",
    "            \n",
    "            saved_classes[klass['id']] = {'created_at': datetime.strftime(created_at, '%Y-%m-%d %X'),\n",
    "                                'title': klass['title'],\n",
    "                                'start_time': datetime.strftime(start_time, '%A, %d %b at %H:%M'),\n",
    "                                'saved': False}\n",
    "            new_class = True\n",
    "        except AssertionError:\n",
    "            pass\n",
    "    return saved_classes, new_class"
   ]
  },
  {
   "cell_type": "code",
   "execution_count": 57,
   "metadata": {},
   "outputs": [],
   "source": [
    "import sqlite3\n",
    "\n",
    "def create_db():\n",
    "    # Create a database in RAM\n",
    "    # db = sqlite3.connect(':memory:')\n",
    "\n",
    "    # Creates or opens a file called mydb with a SQLite3 DB\n",
    "    db = sqlite3.connect('db.sqlite3')\n",
    "\n",
    "    ##########\n",
    "    # CREATE #\n",
    "    ##########\n",
    "    cursor = db.cursor()\n",
    "    cursor.execute('''\n",
    "        CREATE TABLE IF NOT EXISTS classes(\n",
    "            id INTEGER PRIMARY KEY,\n",
    "            created_at TEXT,\n",
    "            title TEXT,\n",
    "            start_time TEXT\n",
    "        )\n",
    "    ''')\n",
    "    db.commit()\n",
    "    db.close()\n",
    "\n",
    "create_db()\n",
    "saved_classes, new_class = process_classes(classes, saved_classes)"
   ]
  },
  {
   "cell_type": "code",
   "execution_count": 58,
   "metadata": {},
   "outputs": [],
   "source": [
    "def insert_db(saved_classes):\n",
    "    db = sqlite3.connect('db.sqlite3')\n",
    "    cursor = db.cursor()\n",
    "    for class_id in saved_classes:\n",
    "        if saved_classes[class_id]['saved'] is False:\n",
    "            cursor.execute('''INSERT INTO classes(id, created_at, title, start_time)\n",
    "                            VALUES(:id,:created_at, :title, :start_time)''',\n",
    "                            {'id':class_id, \n",
    "                            'created_at':saved_classes[class_id]['created_at'], \n",
    "                            'title':saved_classes[class_id]['title'], \n",
    "                            'start_time':saved_classes[class_id]['start_time']\n",
    "                            })\n",
    "            saved_classes[class_id]['saved'] = True\n",
    "    db.commit()\n",
    "    db.close()\n",
    "    return saved_classes\n",
    "if new_class:\n",
    "    saved_classes = insert_db(saved_classes)\n",
    "    new_class = False"
   ]
  },
  {
   "cell_type": "code",
   "execution_count": 59,
   "metadata": {},
   "outputs": [
    {
     "data": {
      "text/plain": [
       "False"
      ]
     },
     "execution_count": 59,
     "metadata": {},
     "output_type": "execute_result"
    }
   ],
   "source": [
    "new_class"
   ]
  },
  {
   "cell_type": "code",
   "execution_count": 60,
   "metadata": {},
   "outputs": [
    {
     "data": {
      "text/plain": [
       "[(2396162,\n",
       "  '2022-02-25 01:34:09',\n",
       "  'BUC: Lower Body Strength',\n",
       "  'Monday, 07 Mar at 06:30'),\n",
       " (2396164,\n",
       "  '2022-02-25 01:34:09',\n",
       "  'BUC: Lower Body Strength',\n",
       "  'Monday, 07 Mar at 12:00'),\n",
       " (2413519,\n",
       "  '2022-03-04 01:18:39',\n",
       "  'BUC: Lower Body Strength',\n",
       "  'Monday, 14 Mar at 06:30'),\n",
       " (2413521,\n",
       "  '2022-03-04 01:18:39',\n",
       "  'BUC: Lower Body Strength',\n",
       "  'Monday, 14 Mar at 12:00')]"
      ]
     },
     "execution_count": 60,
     "metadata": {},
     "output_type": "execute_result"
    }
   ],
   "source": [
    "def get_db():\n",
    "    db = sqlite3.connect('db.sqlite3')\n",
    "    cursor = db.cursor()\n",
    "    cursor.execute('''select * from classes''')\n",
    "\n",
    "    result = cursor.fetchall()\n",
    "\n",
    "    db.close()\n",
    "\n",
    "    return result\n",
    "get_db()"
   ]
  },
  {
   "cell_type": "code",
   "execution_count": null,
   "metadata": {},
   "outputs": [],
   "source": []
  }
 ],
 "metadata": {
  "interpreter": {
   "hash": "f4fde45515710cbe4f4cf44a8ddef1b298277709bd6c5462499553af68a98f2e"
  },
  "kernelspec": {
   "display_name": "Python 3.9.9 64-bit",
   "language": "python",
   "name": "python3"
  },
  "language_info": {
   "codemirror_mode": {
    "name": "ipython",
    "version": 3
   },
   "file_extension": ".py",
   "mimetype": "text/x-python",
   "name": "python",
   "nbconvert_exporter": "python",
   "pygments_lexer": "ipython3",
   "version": "3.9.9"
  },
  "orig_nbformat": 4
 },
 "nbformat": 4,
 "nbformat_minor": 2
}
